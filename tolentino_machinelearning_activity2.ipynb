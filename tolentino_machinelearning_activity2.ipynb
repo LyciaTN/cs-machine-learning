{
 "cells": [
  {
   "cell_type": "code",
   "execution_count": 74,
   "metadata": {},
   "outputs": [],
   "source": [
    "import pandas as pd\n",
    "import numpy as np\n",
    "import matplotlib.pyplot as plt\n",
    "import seaborn as sns\n",
    "from typing import cast"
   ]
  },
  {
   "attachments": {},
   "cell_type": "markdown",
   "metadata": {},
   "source": [
    "#### Instructions\n",
    "\n",
    "Activity For Day 2 - Housing Price Prediction using Linear Regression\n",
    "\n",
    " \n",
    "\n",
    "Objective: The objective of this activity is to apply linear regression to predict housing prices based on a housing dataset. Through this activity, participants will gain hands-on experience in implementing linear regression, interpreting the results, and evaluating the model's performance.\n",
    "\n",
    "##### Materials:\n",
    "\n",
    "Housing dataset (e.g., a CSV file containing housing features and corresponding prices): housing_dataset-1.csvDownload housing_dataset-1.csv\n",
    "Python programming environment with libraries such as pandas, scikit-learn, and matplotlib installed\n",
    " \n",
    "\n",
    "##### Instructions:\n",
    "\n",
    "Data Exploration and Data Preprocessing:\n",
    "\n",
    "Show the basic measurements and statistical descriptions of the data set. \n",
    "Preprocess the data by renaming the columns based on the standard nomenclature. \n",
    "Count the entries and the null items.\n",
    "Determine the outliers in the house pricing column.\n",
    "##### Linear Regression Model:\n",
    "\n",
    "Provide the following models:\n",
    "Simple Linear Regression (Each feature will be paired with the house price)\n",
    "\n",
    "determine the regression equation for each pair. \n",
    "\n",
    "determine the correlation coefficient for each pair.\n",
    "visualize the scatterplot.\n",
    "\n",
    "determine the accuracy of the model. Determine if it is underfit, overfit, or correct. \n",
    "\n",
    "Create an interface wherein:\n",
    "the user will select which feature will be considered, \n",
    "the user will enter a value for the feature (users will be limited to the maximum and minimum values of each feature),\n",
    "the program will show the predicted price based on the equation of that feature with the pricing (the program should remind the user about the accuracy of the model).\n",
    "\n",
    "Multiple Linear Regression (Using each feature with the housing price)\n",
    "determine the regression equation for this model. \n",
    "determine the accuracy of the model. Determine if it is underfit, overfit, or correct.\n",
    "Create an interface wherein: \n",
    "the user will enter a value for each of the features (users will be limited to the maximum and minimum values of each feature),\n",
    "the program will show the predicted price (the program should remind the user about the accuracy of the model).\n",
    " \n",
    "\n",
    "##### Discussion and Reflection\n",
    "\n",
    "How did you preprocess the housing dataset?\n",
    "\n",
    "What steps did you take to handle missing values and encode categorical variables?\n",
    "\n",
    "What are the interpretations of the coefficients obtained from the linear regression model in the context of the housing dataset?\n",
    "\n",
    "How did you evaluate the performance of the linear regression model?\n",
    "\n",
    "What do the evaluation metrics indicate about the model's accuracy?\n",
    "\n",
    "What patterns or deviations did you observe in the visualization of the predicted housing prices?\n",
    "\n",
    "How do these visualizations contribute to your understanding of the model's performance?\n",
    "\n",
    "Based on your experience in building the linear regression model, what improvements or enhancements would you suggest to make the predictions more accurate?"
   ]
  },
  {
   "cell_type": "code",
   "execution_count": 75,
   "metadata": {},
   "outputs": [],
   "source": [
    "# Read the data\n",
    "housing_df = pd.read_csv('datasets/housing_dataset-1.csv')\n",
    "\n",
    "# Clean the columns name\n",
    "housing_df.columns = housing_df.columns.str.strip().str.lower().str.replace(' ', '_').str.replace('(', '').str.replace(')', '')"
   ]
  },
  {
   "cell_type": "code",
   "execution_count": 76,
   "metadata": {},
   "outputs": [
    {
     "data": {
      "text/html": [
       "<div>\n",
       "<style scoped>\n",
       "    .dataframe tbody tr th:only-of-type {\n",
       "        vertical-align: middle;\n",
       "    }\n",
       "\n",
       "    .dataframe tbody tr th {\n",
       "        vertical-align: top;\n",
       "    }\n",
       "\n",
       "    .dataframe thead th {\n",
       "        text-align: right;\n",
       "    }\n",
       "</style>\n",
       "<table border=\"1\" class=\"dataframe\">\n",
       "  <thead>\n",
       "    <tr style=\"text-align: right;\">\n",
       "      <th></th>\n",
       "      <th>no</th>\n",
       "      <th>transaction_date</th>\n",
       "      <th>house_age</th>\n",
       "      <th>distance_to_the_nearest_mrt_station</th>\n",
       "      <th>number_of_convenience_stores</th>\n",
       "      <th>y_house_price_of_unit_area</th>\n",
       "    </tr>\n",
       "  </thead>\n",
       "  <tbody>\n",
       "    <tr>\n",
       "      <th>0</th>\n",
       "      <td>1</td>\n",
       "      <td>2012.917</td>\n",
       "      <td>32.0</td>\n",
       "      <td>84.87882</td>\n",
       "      <td>10</td>\n",
       "      <td>37.9</td>\n",
       "    </tr>\n",
       "    <tr>\n",
       "      <th>1</th>\n",
       "      <td>2</td>\n",
       "      <td>2012.917</td>\n",
       "      <td>19.5</td>\n",
       "      <td>306.59470</td>\n",
       "      <td>9</td>\n",
       "      <td>42.2</td>\n",
       "    </tr>\n",
       "    <tr>\n",
       "      <th>2</th>\n",
       "      <td>3</td>\n",
       "      <td>2013.583</td>\n",
       "      <td>13.3</td>\n",
       "      <td>561.98450</td>\n",
       "      <td>5</td>\n",
       "      <td>47.3</td>\n",
       "    </tr>\n",
       "    <tr>\n",
       "      <th>3</th>\n",
       "      <td>4</td>\n",
       "      <td>2013.500</td>\n",
       "      <td>13.3</td>\n",
       "      <td>561.98450</td>\n",
       "      <td>5</td>\n",
       "      <td>54.8</td>\n",
       "    </tr>\n",
       "    <tr>\n",
       "      <th>4</th>\n",
       "      <td>5</td>\n",
       "      <td>2012.833</td>\n",
       "      <td>5.0</td>\n",
       "      <td>390.56840</td>\n",
       "      <td>5</td>\n",
       "      <td>43.1</td>\n",
       "    </tr>\n",
       "  </tbody>\n",
       "</table>\n",
       "</div>"
      ],
      "text/plain": [
       "   no  transaction_date  house_age  distance_to_the_nearest_mrt_station  \\\n",
       "0   1          2012.917       32.0                             84.87882   \n",
       "1   2          2012.917       19.5                            306.59470   \n",
       "2   3          2013.583       13.3                            561.98450   \n",
       "3   4          2013.500       13.3                            561.98450   \n",
       "4   5          2012.833        5.0                            390.56840   \n",
       "\n",
       "   number_of_convenience_stores  y_house_price_of_unit_area  \n",
       "0                            10                        37.9  \n",
       "1                             9                        42.2  \n",
       "2                             5                        47.3  \n",
       "3                             5                        54.8  \n",
       "4                             5                        43.1  "
      ]
     },
     "execution_count": 76,
     "metadata": {},
     "output_type": "execute_result"
    }
   ],
   "source": [
    "housing_df.head()"
   ]
  },
  {
   "cell_type": "code",
   "execution_count": 77,
   "metadata": {},
   "outputs": [],
   "source": [
    "# Create the correlation matrix of the housing_df\n",
    "corr_matrix = housing_df.corr()\n",
    "\n",
    "# Extract the following correlation values from the matrix\n",
    "corr_age = corr_matrix['house_age']\n",
    "corr_dis = corr_matrix['distance_to_the_nearest_mrt_station']\n",
    "corr_rad = corr_matrix['number_of_convenience_stores']\n"
   ]
  },
  {
   "cell_type": "code",
   "execution_count": 78,
   "metadata": {},
   "outputs": [],
   "source": [
    "from sklearn.linear_model import LinearRegression\n",
    "from sklearn.metrics import r2_score\n",
    "\n",
    "def validate_correlation_strength(r_score: float) -> str:\n",
    "    # Check the accuracy of the model\n",
    "    scale = {\n",
    "        'very_strong': 1,\n",
    "        'strong': 0.75,\n",
    "        'considerable': 0.5,\n",
    "        'very_weak': 0.25,\n",
    "        'negligible': 0\n",
    "    }\n",
    "    \n",
    "    for key in scale:\n",
    "        if(abs(r_score) >= scale[key]):\n",
    "            return key\n",
    "\n",
    "\n",
    "def compute_regression(target: str, value: int, is_multiple_regression: bool = False):\n",
    "    x = housing_df[[target]]\n",
    "    y = housing_df['y_house_price_of_unit_area']\n",
    "\n",
    "    # Fit the model\n",
    "    model = LinearRegression().fit(x, y)\n",
    "    predictions = model.predict(x)\n",
    "\n",
    "    # Create the scatter plot\n",
    "    plt.figure(figsize=(8, 6))\n",
    "    sns.scatterplot(data=housing_df, x=target, y='y_house_price_of_unit_area', color='blue')\n",
    "\n",
    "    # Add the regression line\n",
    "    line = model.intercept_ + model.coef_[0] * housing_df[target]\n",
    "    plt.plot(housing_df[target], line, 'r', label=f'y={model.intercept_:.2f}+{model.coef_[0]:.2f}*x')\n",
    "\n",
    "    print(f\"\\nRegression equation for: {target}\")\n",
    "    print(\"House Price = \", model.intercept_, '+', model.coef_[0], '*', value)\n",
    "    print(f'\\nR-squared for {target}: {r2_score(y, predictions)}')\n",
    "    prediction_value = model.intercept_ + model.coef_[0] * value\n",
    "    \n",
    "    print(f'Predicted House Price for {target} = {prediction_value}')\n",
    "\n",
    "    # Validate the correlation strength\n",
    "    print(f'Correlation strength for {target}: {validate_correlation_strength(corr_matrix[target][\"y_house_price_of_unit_area\"])}')\n",
    "\n",
    "    plt.legend()\n",
    "    plt.title(f'Regression of {target} on House Price')\n",
    "    plt.grid(True)\n",
    "    plt.show()\n",
    "\n",
    "\n",
    "    "
   ]
  },
  {
   "cell_type": "code",
   "execution_count": 79,
   "metadata": {},
   "outputs": [
    {
     "data": {
      "application/vnd.jupyter.widget-view+json": {
       "model_id": "4d7844bdb27044cd9243130f6769dc89",
       "version_major": 2,
       "version_minor": 0
      },
      "text/plain": [
       "HTML(value='<h1>Multiple Linear Regression</h1>')"
      ]
     },
     "metadata": {},
     "output_type": "display_data"
    },
    {
     "data": {
      "application/vnd.jupyter.widget-view+json": {
       "model_id": "75914c5d5c73464d9a54b58a5e52ccba",
       "version_major": 2,
       "version_minor": 0
      },
      "text/plain": [
       "Dropdown(description='Target:', options=('house_age', 'distance_to_the_nearest_mrt_station', 'number_of_conven…"
      ]
     },
     "metadata": {},
     "output_type": "display_data"
    },
    {
     "data": {
      "application/vnd.jupyter.widget-view+json": {
       "model_id": "ffe871234b5b4945a9ee8b9cc1023aea",
       "version_major": 2,
       "version_minor": 0
      },
      "text/plain": [
       "FloatText(value=25.0, description='Value:', style=DescriptionStyle(description_width='initial'))"
      ]
     },
     "metadata": {},
     "output_type": "display_data"
    },
    {
     "data": {
      "application/vnd.jupyter.widget-view+json": {
       "model_id": "810042513a5142c1ad863c2f2a40a150",
       "version_major": 2,
       "version_minor": 0
      },
      "text/plain": [
       "Button(description='Generate Regression', style=ButtonStyle())"
      ]
     },
     "metadata": {},
     "output_type": "display_data"
    },
    {
     "name": "stdout",
     "output_type": "stream",
     "text": [
      "\n",
      "Regression equation for: house_age\n",
      "House Price =  42.43469704626289 + -0.2514884190853454 * 25.0\n",
      "\n",
      "R-squared for house_age: 0.04433848097791171\n",
      "Predicted House Price for house_age = 36.147486569129256\n",
      "Correlation strength for house_age: negligible\n"
     ]
    },
    {
     "data": {
      "image/png": "[encoded data removed]",
      "text/plain": [
       "<Figure size 800x600 with 1 Axes>"
      ]
     },
     "metadata": {},
     "output_type": "display_data"
    }
   ],
   "source": [
    "import ipywidgets as widgets\n",
    "from IPython.display import display, clear_output\n",
    "\n",
    "\n",
    "title = widgets.HTML(value=\"<h1>Regression of House Price on Housing Features</h1>\")\n",
    "\n",
    "# Create a dropdown list of all the targets to choose from\n",
    "targets = ['house_age', 'distance_to_the_nearest_mrt_station', 'number_of_convenience_stores']\n",
    "\n",
    "clear_output(wait=True)\n",
    "\n",
    "selected_target = targets[0]\n",
    "target_dropdown = widgets.Dropdown(options=targets, value=selected_target, description='Target:')\n",
    "target_dropdown.style = {'description_width': 'initial'}\n",
    "\n",
    "target_input = widgets.FloatText(value=0, description='Value:')\n",
    "target_input.style = {'description_width': 'initial'}\n",
    "\n",
    "# Create a button to confirm the selection\n",
    "confirm_button = widgets.Button(description='Generate Regression')\n",
    "\n",
    "display(title,target_dropdown, target_input, confirm_button)\n",
    "\n",
    "# Handle the click event of the button\n",
    "def on_confirm_pressed(_):\n",
    "    clear_output(wait=True)\n",
    "\n",
    "    target = cast(str, target_dropdown.value)\n",
    "    input = cast(int, target_input.value)\n",
    "\n",
    "    clear_output(wait=True)\n",
    "    display(title, target_dropdown, target_input, confirm_button)\n",
    "    \n",
    "    if(input == 0):\n",
    "        print(\"Please enter a value for the target\")\n",
    "        return \n",
    "    \n",
    "    # Validate the input based on the min max values of the selected\n",
    "    # target\n",
    "    data = housing_df[target]\n",
    "    min_value = data.min()\n",
    "    max_value = data.max()\n",
    "    \n",
    "    if(input < min_value or input > max_value):\n",
    "        print(f\"Please enter a value between {min_value} and {max_value}\")\n",
    "        return\n",
    "    \n",
    "    compute_regression(target, input)\n",
    "\n",
    "confirm_button.on_click(on_confirm_pressed)"
   ]
  },
  {
   "attachments": {},
   "cell_type": "markdown",
   "metadata": {},
   "source": [
    "#### Multiple Linear Regression ####"
   ]
  },
  {
   "cell_type": "code",
   "execution_count": 80,
   "metadata": {},
   "outputs": [],
   "source": [
    "from sklearn.linear_model import LinearRegression\n",
    "from sklearn.metrics import r2_score\n",
    "\n",
    "def compute_multiple_regression(values: list[int]):\n",
    "    '''\n",
    "    Multiple Linear Regression (Using each feature with the housing price)\n",
    "        determine the regression equation for this model. \n",
    "        determine the accuracy of the model. Determine if it is underfit, overfit, or correct.\n",
    "        Create an interface wherein: \n",
    "        the user will enter a value for each of the features (users will be limited to the maximum and minimum values of each feature),\n",
    "        the program will show the predicted price (the program should remind the user about the accuracy of the model).    \n",
    "    '''\n",
    "\n",
    "    # Before starting make sure that the values are within the min and max values of the features\n",
    "    # Validate the input based on the min max values of the data sets\n",
    "\n",
    "    x = housing_df[['house_age', 'distance_to_the_nearest_mrt_station', 'number_of_convenience_stores']]\n",
    "    \n",
    "    for i in range(len(values)):\n",
    "        data = x.iloc[:, i]\n",
    "        target = data.name\n",
    "        min_value = data.min()\n",
    "        max_value = data.max()\n",
    "\n",
    "        if(values[i] < min_value or values[i] > max_value):\n",
    "            print(f\"{target} Please enter a value between {min_value} and {max_value}\")\n",
    "            return\n",
    "\n",
    "    y = housing_df['y_house_price_of_unit_area']\n",
    "\n",
    "    # Fit the model\n",
    "    model = LinearRegression().fit(x, y)\n",
    "    predictions = model.predict(x)\n",
    "\n",
    "    intercept = model.intercept_\n",
    "    coefs = model.coef_\n",
    "\n",
    "    r_score = r2_score(y, predictions)\n",
    "    price_per_unit_area = intercept + coefs[0] * values[0] + coefs[1] * values[1] + coefs[2] * values[2]\n",
    "\n",
    "    print(f'Price per unit area: = {intercept:.2f} \\\n",
    "          + {coefs[0]:.2f} * house_age \\\n",
    "          + {coefs[1]:.2f} * distance_to_the_nearest_mrt_station \\\n",
    "          + {coefs[2]:.2f} * number_of_convenience_stores')\n",
    "    print(f'Predicted price per unit area: {price_per_unit_area:.2f}')\n",
    "\n",
    "    print (\"R-squared: \", r_score)\n",
    "    \n",
    "    # Validate the correlation strength\n",
    "    print(f'Correlation strength for Multiple Linear Regressions: {validate_correlation_strength(r_score)}')\n",
    "\n"
   ]
  },
  {
   "cell_type": "code",
   "execution_count": 81,
   "metadata": {},
   "outputs": [
    {
     "data": {
      "application/vnd.jupyter.widget-view+json": {
       "model_id": "4d7844bdb27044cd9243130f6769dc89",
       "version_major": 2,
       "version_minor": 0
      },
      "text/plain": [
       "HTML(value='<h1>Multiple Linear Regression</h1>')"
      ]
     },
     "metadata": {},
     "output_type": "display_data"
    },
    {
     "data": {
      "application/vnd.jupyter.widget-view+json": {
       "model_id": "68b1d4426e0e4bab85c83a4407d72d66",
       "version_major": 2,
       "version_minor": 0
      },
      "text/plain": [
       "FloatText(value=10.0, description='Age:', style=DescriptionStyle(description_width='initial'))"
      ]
     },
     "metadata": {},
     "output_type": "display_data"
    },
    {
     "data": {
      "application/vnd.jupyter.widget-view+json": {
       "model_id": "95b1e8cc51be42308c35fe2b68de2ea1",
       "version_major": 2,
       "version_minor": 0
      },
      "text/plain": [
       "FloatText(value=25.0, description='Distance:', style=DescriptionStyle(description_width='initial'))"
      ]
     },
     "metadata": {},
     "output_type": "display_data"
    },
    {
     "data": {
      "application/vnd.jupyter.widget-view+json": {
       "model_id": "fc05717f19d74680989507fb6f57d25c",
       "version_major": 2,
       "version_minor": 0
      },
      "text/plain": [
       "FloatText(value=10.0, description='Stores:', style=DescriptionStyle(description_width='initial'))"
      ]
     },
     "metadata": {},
     "output_type": "display_data"
    },
    {
     "data": {
      "application/vnd.jupyter.widget-view+json": {
       "model_id": "810042513a5142c1ad863c2f2a40a150",
       "version_major": 2,
       "version_minor": 0
      },
      "text/plain": [
       "Button(description='Generate Regression', style=ButtonStyle())"
      ]
     },
     "metadata": {},
     "output_type": "display_data"
    },
    {
     "name": "stdout",
     "output_type": "stream",
     "text": [
      "Price per unit area: = 42.98           + -0.25 * house_age           + -0.01 * distance_to_the_nearest_mrt_station           + 1.30 * number_of_convenience_stores\n",
      "Predicted price per unit area: 53.29\n",
      "R-squared:  0.5410632980005725\n",
      "Correlation strength for Multiple Linear Regressions: considerable\n"
     ]
    }
   ],
   "source": [
    "import ipywidgets as widgets\n",
    "from IPython.display import display, clear_output\n",
    "\n",
    "clear_output(wait=True)\n",
    "\n",
    "def get_min_max_values(data, target):\n",
    "    min_value = data[target].min()\n",
    "    max_value = data[target].max()\n",
    "    return min_value, max_value\n",
    "\n",
    "title = widgets.HTML(value=\"<h1>Multiple Linear Regression</h1>\")\n",
    "age_max, age_min = get_min_max_values(housing_df, 'house_age')\n",
    "age_input = widgets.FloatText(value=0, description='Age:', min=age_min, max=age_max)\n",
    "age_input.style = {'description_width': 'initial'}\n",
    "\n",
    "distance_max, distance_min = get_min_max_values(housing_df, 'distance_to_the_nearest_mrt_station')\n",
    "distance_input = widgets.FloatText(value=0, description='Distance:', min=distance_min, max=distance_max)\n",
    "distance_input.style = {'description_width': 'initial'}\n",
    "\n",
    "stores_max, stores_min = get_min_max_values(housing_df, 'number_of_convenience_stores')\n",
    "stores_input = widgets.FloatText(value=0, description='Stores:', min=stores_min, max=stores_max)\n",
    "stores_input.style = {'description_width': 'initial'}\n",
    "\n",
    "\n",
    "# Create a button to confirm the selection\n",
    "confirm_button = widgets.Button(description='Generate Regression')\n",
    "\n",
    "display(title, age_input, distance_input, stores_input, confirm_button)\n",
    "\n",
    "# Handle the click event of the button\n",
    "def on_confirm_pressed(_):\n",
    "    age = cast(int, age_input.value)\n",
    "    distance = cast(int, distance_input.value)\n",
    "    stores = cast(int, stores_input.value)\n",
    "\n",
    "    clear_output(wait=True)\n",
    "    display(title, age_input, distance_input, stores_input, confirm_button)\n",
    "    \n",
    "    compute_multiple_regression([age, distance, stores])\n",
    "\n",
    "confirm_button.on_click(on_confirm_pressed)"
   ]
  },
  {
   "attachments": {},
   "cell_type": "markdown",
   "metadata": {},
   "source": [
    "##### Discussion and Reflection\n",
    "\n",
    "##### How did you preprocess the housing dataset?\n",
    "- The housing dataset was preprocessed by renaming the columns based on the standard naming conventions.\n",
    "##### What steps did you take to handle missing values and encode categorical variables?\n",
    "- There were no missing values in the dataset, and as we are only using numerical data, there was no need to encode categorical variables.\n",
    "\n",
    "##### What are the interpretations of the coefficients obtained from the linear regression model in the context of the housing dataset?\n",
    "- The coefficients obtained from the linear regression model varies depending on the feature being tested on, but on average, the coefficients are positive, which means that the feature has a positive correlation with the price of the house. This means that as the value of the feature changes the price of the house also changes.\n",
    "\n",
    "##### How did you evaluate the performance of the linear regression model?\n",
    "- The performance of the linear regression model was evaluated using a pre-defined scale that ranges from -1 to 1 with its perspective textual equivalent. \n",
    "\n",
    "These values are:\n",
    "```\n",
    "Very Strong(1),\n",
    "Strong(0.75),\n",
    "Considerable(0.5),\n",
    "Very Weak(0.25),\n",
    "Negligible(0)\n",
    "``` \n",
    "\n",
    "\n",
    "##### What do the evaluation metrics indicate about the model's accuracy?\n",
    "- The evaluation metrics indicate that the model is considerable as the score gets closer to 1, meaning that the model is a good fit for the data.\n",
    "##### What patterns or deviations did you observe in the visualization of the predicted housing prices?\n",
    "- The patterns observed in the visualization of the predicted housing prices is that the predicted prices are heavily influenced by the features that have a high correlation with the price of the house, these correlations were determined when we were analyzing the data set.\n",
    "\n",
    "##### How do these visualizations contribute to your understanding of the model's performance?\n",
    "- The visualizations contribute to the understanding of the model's performance by showing the relationship between the features and the price of the house. This helps in making the understanding the model's performance easier to digest to the analyst as it shows the correlation between the features and the price of the house in a visualized form.\n",
    "\n",
    "##### Based on your experience in building the linear regression model, what improvements or enhancements would you suggest to make the predictions more accurate?\n",
    "- Based on my experience in building the linear regression model, I would suggest that the model be trained with more data to make the predictions more accurate and more robust."
   ]
  }
 ],
 "metadata": {
  "kernelspec": {
   "display_name": "Python 3",
   "language": "python",
   "name": "python3"
  },
  "language_info": {
   "codemirror_mode": {
    "name": "ipython",
    "version": 3
   },
   "file_extension": ".py",
   "mimetype": "text/x-python",
   "name": "python",
   "nbconvert_exporter": "python",
   "pygments_lexer": "ipython3",
   "version": "3.11.3"
  },
  "orig_nbformat": 4
 },
 "nbformat": 4,
 "nbformat_minor": 2
}
