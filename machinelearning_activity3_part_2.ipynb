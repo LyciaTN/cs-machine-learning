{
 "cells": [
  {
   "cell_type": "markdown",
   "metadata": {},
   "source": [
    "#### Activity 3 - Logistic Regression Practice (Iris Data Set and Heart Attack)\n",
    "\n",
    "Basic Classification Algorithm - Binary Logistic Regression\n",
    "\n",
    "We would need to practice using a few datasets to understand how logistic regression works. "
   ]
  },
  {
   "cell_type": "markdown",
   "metadata": {},
   "source": [
    "##### Part 2 - Heart Attack Dataset\n"
   ]
  }
 ],
 "metadata": {
  "language_info": {
   "name": "python"
  },
  "orig_nbformat": 4
 },
 "nbformat": 4,
 "nbformat_minor": 2
}
